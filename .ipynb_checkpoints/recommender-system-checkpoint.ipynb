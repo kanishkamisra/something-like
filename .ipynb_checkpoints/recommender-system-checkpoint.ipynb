{
 "cells": [
  {
   "cell_type": "markdown",
   "metadata": {},
   "source": [
    "## Simple Product Recommendations\n",
    "\n",
    "By leveraging text frequency metrics and vector similarity, products can be matched with one another."
   ]
  },
  {
   "cell_type": "code",
   "execution_count": 1,
   "metadata": {
    "collapsed": true
   },
   "outputs": [],
   "source": [
    "import pandas as pd\n",
    "from sklearn.feature_extraction.text import TfidfVectorizer, CountVectorizer\n",
    "from sklearn.metrics.pairwise import linear_kernel"
   ]
  },
  {
   "cell_type": "markdown",
   "metadata": {},
   "source": [
    "## The Data\n",
    "\n",
    "The data looks something like this:"
   ]
  },
  {
   "cell_type": "code",
   "execution_count": 9,
   "metadata": {
    "collapsed": false
   },
   "outputs": [
    {
     "data": {
      "text/html": [
       "<div>\n",
       "<table border=\"1\" class=\"dataframe\">\n",
       "  <thead>\n",
       "    <tr style=\"text-align: right;\">\n",
       "      <th></th>\n",
       "      <th>id</th>\n",
       "      <th>description</th>\n",
       "    </tr>\n",
       "  </thead>\n",
       "  <tbody>\n",
       "    <tr>\n",
       "      <th>0</th>\n",
       "      <td>1</td>\n",
       "      <td>Active classic boxers - There's a reason why o...</td>\n",
       "    </tr>\n",
       "    <tr>\n",
       "      <th>1</th>\n",
       "      <td>2</td>\n",
       "      <td>Active sport boxer briefs - Skinning up Glory ...</td>\n",
       "    </tr>\n",
       "    <tr>\n",
       "      <th>2</th>\n",
       "      <td>3</td>\n",
       "      <td>Active sport briefs - These superbreathable no...</td>\n",
       "    </tr>\n",
       "    <tr>\n",
       "      <th>3</th>\n",
       "      <td>4</td>\n",
       "      <td>Alpine guide pants - Skin in, climb ice, switc...</td>\n",
       "    </tr>\n",
       "    <tr>\n",
       "      <th>4</th>\n",
       "      <td>5</td>\n",
       "      <td>Alpine wind jkt - On high ridges, steep ice an...</td>\n",
       "    </tr>\n",
       "  </tbody>\n",
       "</table>\n",
       "</div>"
      ],
      "text/plain": [
       "   id                                        description\n",
       "0   1  Active classic boxers - There's a reason why o...\n",
       "1   2  Active sport boxer briefs - Skinning up Glory ...\n",
       "2   3  Active sport briefs - These superbreathable no...\n",
       "3   4  Alpine guide pants - Skin in, climb ice, switc...\n",
       "4   5  Alpine wind jkt - On high ridges, steep ice an..."
      ]
     },
     "execution_count": 9,
     "metadata": {},
     "output_type": "execute_result"
    }
   ],
   "source": [
    "products = pd.read_csv('data/sample-data.csv')\n",
    "products.head()\n",
    "# To-Do, split heads from the data to allow queries from data!"
   ]
  },
  {
   "cell_type": "markdown",
   "metadata": {},
   "source": [
    "## tfidf vectorising\n",
    "\n",
    "This converts words to their tfidfs.\n",
    "\n",
    "To-Do: Add explanation and theory behind tfidfs"
   ]
  },
  {
   "cell_type": "code",
   "execution_count": 10,
   "metadata": {
    "collapsed": true
   },
   "outputs": [],
   "source": [
    "# Initialize the vectorizer to be word-based and to consider uni-, bi-, and tri-grams\n",
    "tfidf = TfidfVectorizer(analyzer = 'word', ngram_range = (1,3), min_df = 0, stop_words = 'english')\n",
    "tfidf_matrix = tfidf.fit_transform(products.description)"
   ]
  },
  {
   "cell_type": "markdown",
   "metadata": {},
   "source": [
    "## Cosine Similarities\n",
    "\n",
    "Go back to vector algebra! The cosine of two vectors will be 1 if the angle between them is 0 degrees, i.e; they are similar! \n",
    "\n",
    "So if the cosine-similarity is closer to 1, the more similar the vectors are and thus, the more similar are the products in content of their description. Very basic!"
   ]
  },
  {
   "cell_type": "code",
   "execution_count": 22,
   "metadata": {
    "collapsed": true
   },
   "outputs": [],
   "source": [
    "cosine_similarities = linear_kernel(tfidf_matrix, tfidf_matrix)"
   ]
  },
  {
   "cell_type": "markdown",
   "metadata": {},
   "source": [
    "Let's look at our amazing similarity matrix:"
   ]
  },
  {
   "cell_type": "code",
   "execution_count": 28,
   "metadata": {
    "collapsed": false
   },
   "outputs": [
    {
     "data": {
      "text/html": [
       "<div>\n",
       "<table border=\"1\" class=\"dataframe\">\n",
       "  <thead>\n",
       "    <tr style=\"text-align: right;\">\n",
       "      <th></th>\n",
       "      <th>0</th>\n",
       "      <th>1</th>\n",
       "      <th>2</th>\n",
       "      <th>3</th>\n",
       "      <th>4</th>\n",
       "      <th>5</th>\n",
       "      <th>6</th>\n",
       "      <th>7</th>\n",
       "      <th>8</th>\n",
       "      <th>9</th>\n",
       "      <th>...</th>\n",
       "      <th>490</th>\n",
       "      <th>491</th>\n",
       "      <th>492</th>\n",
       "      <th>493</th>\n",
       "      <th>494</th>\n",
       "      <th>495</th>\n",
       "      <th>496</th>\n",
       "      <th>497</th>\n",
       "      <th>498</th>\n",
       "      <th>499</th>\n",
       "    </tr>\n",
       "  </thead>\n",
       "  <tbody>\n",
       "    <tr>\n",
       "      <th>0</th>\n",
       "      <td>1.000000</td>\n",
       "      <td>0.101106</td>\n",
       "      <td>0.064874</td>\n",
       "      <td>0.054205</td>\n",
       "      <td>0.045668</td>\n",
       "      <td>0.043036</td>\n",
       "      <td>0.038365</td>\n",
       "      <td>0.033483</td>\n",
       "      <td>0.065326</td>\n",
       "      <td>0.023683</td>\n",
       "      <td>...</td>\n",
       "      <td>0.055639</td>\n",
       "      <td>0.044734</td>\n",
       "      <td>0.049726</td>\n",
       "      <td>0.169390</td>\n",
       "      <td>0.138845</td>\n",
       "      <td>0.138136</td>\n",
       "      <td>0.116579</td>\n",
       "      <td>0.060974</td>\n",
       "      <td>0.065469</td>\n",
       "      <td>0.069556</td>\n",
       "    </tr>\n",
       "    <tr>\n",
       "      <th>1</th>\n",
       "      <td>0.101106</td>\n",
       "      <td>1.000000</td>\n",
       "      <td>0.418166</td>\n",
       "      <td>0.054540</td>\n",
       "      <td>0.058340</td>\n",
       "      <td>0.040264</td>\n",
       "      <td>0.043855</td>\n",
       "      <td>0.032784</td>\n",
       "      <td>0.037040</td>\n",
       "      <td>0.027327</td>\n",
       "      <td>...</td>\n",
       "      <td>0.049276</td>\n",
       "      <td>0.037292</td>\n",
       "      <td>0.048259</td>\n",
       "      <td>0.113034</td>\n",
       "      <td>0.072082</td>\n",
       "      <td>0.074730</td>\n",
       "      <td>0.054444</td>\n",
       "      <td>0.035500</td>\n",
       "      <td>0.069364</td>\n",
       "      <td>0.064805</td>\n",
       "    </tr>\n",
       "    <tr>\n",
       "      <th>2</th>\n",
       "      <td>0.064874</td>\n",
       "      <td>0.418166</td>\n",
       "      <td>1.000000</td>\n",
       "      <td>0.050032</td>\n",
       "      <td>0.063913</td>\n",
       "      <td>0.045049</td>\n",
       "      <td>0.051047</td>\n",
       "      <td>0.062232</td>\n",
       "      <td>0.043588</td>\n",
       "      <td>0.044433</td>\n",
       "      <td>...</td>\n",
       "      <td>0.048307</td>\n",
       "      <td>0.039313</td>\n",
       "      <td>0.044638</td>\n",
       "      <td>0.081965</td>\n",
       "      <td>0.110537</td>\n",
       "      <td>0.061168</td>\n",
       "      <td>0.059371</td>\n",
       "      <td>0.034024</td>\n",
       "      <td>0.045514</td>\n",
       "      <td>0.050385</td>\n",
       "    </tr>\n",
       "    <tr>\n",
       "      <th>3</th>\n",
       "      <td>0.054205</td>\n",
       "      <td>0.054540</td>\n",
       "      <td>0.050032</td>\n",
       "      <td>1.000000</td>\n",
       "      <td>0.099679</td>\n",
       "      <td>0.104469</td>\n",
       "      <td>0.065436</td>\n",
       "      <td>0.033349</td>\n",
       "      <td>0.057038</td>\n",
       "      <td>0.042155</td>\n",
       "      <td>...</td>\n",
       "      <td>0.044300</td>\n",
       "      <td>0.036827</td>\n",
       "      <td>0.040935</td>\n",
       "      <td>0.065442</td>\n",
       "      <td>0.047781</td>\n",
       "      <td>0.062331</td>\n",
       "      <td>0.049173</td>\n",
       "      <td>0.072626</td>\n",
       "      <td>0.047726</td>\n",
       "      <td>0.058470</td>\n",
       "    </tr>\n",
       "    <tr>\n",
       "      <th>4</th>\n",
       "      <td>0.045668</td>\n",
       "      <td>0.058340</td>\n",
       "      <td>0.063913</td>\n",
       "      <td>0.099679</td>\n",
       "      <td>1.000000</td>\n",
       "      <td>0.115886</td>\n",
       "      <td>0.080627</td>\n",
       "      <td>0.033233</td>\n",
       "      <td>0.054776</td>\n",
       "      <td>0.056843</td>\n",
       "      <td>...</td>\n",
       "      <td>0.039783</td>\n",
       "      <td>0.032425</td>\n",
       "      <td>0.043029</td>\n",
       "      <td>0.052072</td>\n",
       "      <td>0.043866</td>\n",
       "      <td>0.053034</td>\n",
       "      <td>0.062629</td>\n",
       "      <td>0.107587</td>\n",
       "      <td>0.042696</td>\n",
       "      <td>0.054810</td>\n",
       "    </tr>\n",
       "  </tbody>\n",
       "</table>\n",
       "<p>5 rows × 500 columns</p>\n",
       "</div>"
      ],
      "text/plain": [
       "        0         1         2         3         4         5         6    \\\n",
       "0  1.000000  0.101106  0.064874  0.054205  0.045668  0.043036  0.038365   \n",
       "1  0.101106  1.000000  0.418166  0.054540  0.058340  0.040264  0.043855   \n",
       "2  0.064874  0.418166  1.000000  0.050032  0.063913  0.045049  0.051047   \n",
       "3  0.054205  0.054540  0.050032  1.000000  0.099679  0.104469  0.065436   \n",
       "4  0.045668  0.058340  0.063913  0.099679  1.000000  0.115886  0.080627   \n",
       "\n",
       "        7         8         9      ...          490       491       492  \\\n",
       "0  0.033483  0.065326  0.023683    ...     0.055639  0.044734  0.049726   \n",
       "1  0.032784  0.037040  0.027327    ...     0.049276  0.037292  0.048259   \n",
       "2  0.062232  0.043588  0.044433    ...     0.048307  0.039313  0.044638   \n",
       "3  0.033349  0.057038  0.042155    ...     0.044300  0.036827  0.040935   \n",
       "4  0.033233  0.054776  0.056843    ...     0.039783  0.032425  0.043029   \n",
       "\n",
       "        493       494       495       496       497       498       499  \n",
       "0  0.169390  0.138845  0.138136  0.116579  0.060974  0.065469  0.069556  \n",
       "1  0.113034  0.072082  0.074730  0.054444  0.035500  0.069364  0.064805  \n",
       "2  0.081965  0.110537  0.061168  0.059371  0.034024  0.045514  0.050385  \n",
       "3  0.065442  0.047781  0.062331  0.049173  0.072626  0.047726  0.058470  \n",
       "4  0.052072  0.043866  0.053034  0.062629  0.107587  0.042696  0.054810  \n",
       "\n",
       "[5 rows x 500 columns]"
      ]
     },
     "execution_count": 28,
     "metadata": {},
     "output_type": "execute_result"
    }
   ],
   "source": [
    "pd.DataFrame(cosine_similarities).head()"
   ]
  },
  {
   "cell_type": "code",
   "execution_count": 55,
   "metadata": {
    "collapsed": true
   },
   "outputs": [],
   "source": [
    "# To-Do: add notes\n",
    "similarities = {}\n",
    "\n",
    "for index, row in products.iterrows():\n",
    "    similar_indices = cosine_similarities[index].argsort()[:-100:-1]\n",
    "    # add product title after you separate it!\n",
    "    similar_items = [(cosine_similarities[index][i], products['id'][i]) for i in similar_indices]\n",
    "    similarities[row['id']] = similar_items[1:]"
   ]
  },
  {
   "cell_type": "code",
   "execution_count": 80,
   "metadata": {
    "collapsed": false
   },
   "outputs": [
    {
     "data": {
      "text/html": [
       "<div>\n",
       "<table border=\"1\" class=\"dataframe\">\n",
       "  <thead>\n",
       "    <tr style=\"text-align: right;\">\n",
       "      <th></th>\n",
       "      <th>1</th>\n",
       "      <th>2</th>\n",
       "      <th>3</th>\n",
       "      <th>4</th>\n",
       "      <th>5</th>\n",
       "      <th>6</th>\n",
       "      <th>7</th>\n",
       "      <th>8</th>\n",
       "      <th>9</th>\n",
       "      <th>10</th>\n",
       "      <th>...</th>\n",
       "      <th>491</th>\n",
       "      <th>492</th>\n",
       "      <th>493</th>\n",
       "      <th>494</th>\n",
       "      <th>495</th>\n",
       "      <th>496</th>\n",
       "      <th>497</th>\n",
       "      <th>498</th>\n",
       "      <th>499</th>\n",
       "      <th>500</th>\n",
       "    </tr>\n",
       "  </thead>\n",
       "  <tbody>\n",
       "    <tr>\n",
       "      <th>0</th>\n",
       "      <td>(0.220379214726, 19)</td>\n",
       "      <td>(0.418166399216, 3)</td>\n",
       "      <td>(0.418166399216, 2)</td>\n",
       "      <td>(0.825385675995, 159)</td>\n",
       "      <td>(0.955003649316, 308)</td>\n",
       "      <td>(0.301900561799, 438)</td>\n",
       "      <td>(0.266268232308, 354)</td>\n",
       "      <td>(0.913268218046, 220)</td>\n",
       "      <td>(0.375508408435, 417)</td>\n",
       "      <td>(0.302470602334, 425)</td>\n",
       "      <td>...</td>\n",
       "      <td>(0.401490868812, 116)</td>\n",
       "      <td>(0.981262273383, 286)</td>\n",
       "      <td>(0.417995838571, 138)</td>\n",
       "      <td>(0.528361268034, 19)</td>\n",
       "      <td>(0.311684484525, 494)</td>\n",
       "      <td>(0.615185258188, 173)</td>\n",
       "      <td>(0.704989080363, 22)</td>\n",
       "      <td>(0.237471568777, 302)</td>\n",
       "      <td>(0.386247565848, 462)</td>\n",
       "      <td>(0.36281626186, 499)</td>\n",
       "    </tr>\n",
       "    <tr>\n",
       "      <th>1</th>\n",
       "      <td>(0.16938950913, 494)</td>\n",
       "      <td>(0.115463820986, 19)</td>\n",
       "      <td>(0.11401848122, 299)</td>\n",
       "      <td>(0.20769755385, 184)</td>\n",
       "      <td>(0.183044200891, 96)</td>\n",
       "      <td>(0.293119445145, 184)</td>\n",
       "      <td>(0.254988934946, 104)</td>\n",
       "      <td>(0.449363734332, 262)</td>\n",
       "      <td>(0.116546926409, 469)</td>\n",
       "      <td>(0.216625222869, 466)</td>\n",
       "      <td>...</td>\n",
       "      <td>(0.400336582155, 72)</td>\n",
       "      <td>(0.254601905813, 116)</td>\n",
       "      <td>(0.38993391691, 116)</td>\n",
       "      <td>(0.311684484525, 495)</td>\n",
       "      <td>(0.2400276437, 496)</td>\n",
       "      <td>(0.415822638361, 22)</td>\n",
       "      <td>(0.63344523705, 360)</td>\n",
       "      <td>(0.226974058613, 267)</td>\n",
       "      <td>(0.384221675213, 463)</td>\n",
       "      <td>(0.318046459929, 462)</td>\n",
       "    </tr>\n",
       "    <tr>\n",
       "      <th>2</th>\n",
       "      <td>(0.167694580653, 18)</td>\n",
       "      <td>(0.113033922454, 494)</td>\n",
       "      <td>(0.110537294466, 495)</td>\n",
       "      <td>(0.188279918017, 438)</td>\n",
       "      <td>(0.180399268592, 281)</td>\n",
       "      <td>(0.184122871365, 382)</td>\n",
       "      <td>(0.254573476606, 403)</td>\n",
       "      <td>(0.446206375211, 255)</td>\n",
       "      <td>(0.108203020376, 474)</td>\n",
       "      <td>(0.190674483329, 428)</td>\n",
       "      <td>...</td>\n",
       "      <td>(0.391326437078, 139)</td>\n",
       "      <td>(0.251968784786, 56)</td>\n",
       "      <td>(0.356114740564, 347)</td>\n",
       "      <td>(0.217157070817, 496)</td>\n",
       "      <td>(0.222285329056, 173)</td>\n",
       "      <td>(0.385800979652, 23)</td>\n",
       "      <td>(0.608114612943, 359)</td>\n",
       "      <td>(0.22636494599, 386)</td>\n",
       "      <td>(0.383771537386, 32)</td>\n",
       "      <td>(0.31778345313, 463)</td>\n",
       "    </tr>\n",
       "    <tr>\n",
       "      <th>3</th>\n",
       "      <td>(0.164855277456, 172)</td>\n",
       "      <td>(0.112478545211, 300)</td>\n",
       "      <td>(0.109176400166, 300)</td>\n",
       "      <td>(0.165740268287, 343)</td>\n",
       "      <td>(0.157542170023, 293)</td>\n",
       "      <td>(0.16468574577, 415)</td>\n",
       "      <td>(0.242631339147, 464)</td>\n",
       "      <td>(0.38174009592, 291)</td>\n",
       "      <td>(0.103801046495, 475)</td>\n",
       "      <td>(0.167516510742, 408)</td>\n",
       "      <td>...</td>\n",
       "      <td>(0.376283960326, 98)</td>\n",
       "      <td>(0.240331749948, 372)</td>\n",
       "      <td>(0.346087059195, 98)</td>\n",
       "      <td>(0.214422798401, 173)</td>\n",
       "      <td>(0.222213654254, 19)</td>\n",
       "      <td>(0.383677745095, 359)</td>\n",
       "      <td>(0.567262700882, 23)</td>\n",
       "      <td>(0.184041254207, 212)</td>\n",
       "      <td>(0.36281626186, 500)</td>\n",
       "      <td>(0.315561344229, 32)</td>\n",
       "    </tr>\n",
       "    <tr>\n",
       "      <th>4</th>\n",
       "      <td>(0.148126154606, 442)</td>\n",
       "      <td>(0.111470179244, 299)</td>\n",
       "      <td>(0.101723204487, 156)</td>\n",
       "      <td>(0.163738275363, 384)</td>\n",
       "      <td>(0.152097992726, 210)</td>\n",
       "      <td>(0.150837910762, 387)</td>\n",
       "      <td>(0.231217902502, 437)</td>\n",
       "      <td>(0.369299287912, 240)</td>\n",
       "      <td>(0.101759256605, 230)</td>\n",
       "      <td>(0.153008463261, 465)</td>\n",
       "      <td>...</td>\n",
       "      <td>(0.375307991886, 397)</td>\n",
       "      <td>(0.23862073502, 138)</td>\n",
       "      <td>(0.330714640509, 56)</td>\n",
       "      <td>(0.185013957657, 497)</td>\n",
       "      <td>(0.209197225592, 23)</td>\n",
       "      <td>(0.383561421069, 497)</td>\n",
       "      <td>(0.530864978094, 175)</td>\n",
       "      <td>(0.179860082443, 415)</td>\n",
       "      <td>(0.283497236892, 34)</td>\n",
       "      <td>(0.256628673385, 34)</td>\n",
       "    </tr>\n",
       "  </tbody>\n",
       "</table>\n",
       "<p>5 rows × 500 columns</p>\n",
       "</div>"
      ],
      "text/plain": [
       "                     1                      2                      3    \\\n",
       "0   (0.220379214726, 19)    (0.418166399216, 3)    (0.418166399216, 2)   \n",
       "1   (0.16938950913, 494)   (0.115463820986, 19)   (0.11401848122, 299)   \n",
       "2   (0.167694580653, 18)  (0.113033922454, 494)  (0.110537294466, 495)   \n",
       "3  (0.164855277456, 172)  (0.112478545211, 300)  (0.109176400166, 300)   \n",
       "4  (0.148126154606, 442)  (0.111470179244, 299)  (0.101723204487, 156)   \n",
       "\n",
       "                     4                      5                      6    \\\n",
       "0  (0.825385675995, 159)  (0.955003649316, 308)  (0.301900561799, 438)   \n",
       "1   (0.20769755385, 184)   (0.183044200891, 96)  (0.293119445145, 184)   \n",
       "2  (0.188279918017, 438)  (0.180399268592, 281)  (0.184122871365, 382)   \n",
       "3  (0.165740268287, 343)  (0.157542170023, 293)   (0.16468574577, 415)   \n",
       "4  (0.163738275363, 384)  (0.152097992726, 210)  (0.150837910762, 387)   \n",
       "\n",
       "                     7                      8                      9    \\\n",
       "0  (0.266268232308, 354)  (0.913268218046, 220)  (0.375508408435, 417)   \n",
       "1  (0.254988934946, 104)  (0.449363734332, 262)  (0.116546926409, 469)   \n",
       "2  (0.254573476606, 403)  (0.446206375211, 255)  (0.108203020376, 474)   \n",
       "3  (0.242631339147, 464)   (0.38174009592, 291)  (0.103801046495, 475)   \n",
       "4  (0.231217902502, 437)  (0.369299287912, 240)  (0.101759256605, 230)   \n",
       "\n",
       "                     10           ...                              491  \\\n",
       "0  (0.302470602334, 425)          ...            (0.401490868812, 116)   \n",
       "1  (0.216625222869, 466)          ...             (0.400336582155, 72)   \n",
       "2  (0.190674483329, 428)          ...            (0.391326437078, 139)   \n",
       "3  (0.167516510742, 408)          ...             (0.376283960326, 98)   \n",
       "4  (0.153008463261, 465)          ...            (0.375307991886, 397)   \n",
       "\n",
       "                     492                    493                    494  \\\n",
       "0  (0.981262273383, 286)  (0.417995838571, 138)   (0.528361268034, 19)   \n",
       "1  (0.254601905813, 116)   (0.38993391691, 116)  (0.311684484525, 495)   \n",
       "2   (0.251968784786, 56)  (0.356114740564, 347)  (0.217157070817, 496)   \n",
       "3  (0.240331749948, 372)   (0.346087059195, 98)  (0.214422798401, 173)   \n",
       "4   (0.23862073502, 138)   (0.330714640509, 56)  (0.185013957657, 497)   \n",
       "\n",
       "                     495                    496                    497  \\\n",
       "0  (0.311684484525, 494)  (0.615185258188, 173)   (0.704989080363, 22)   \n",
       "1    (0.2400276437, 496)   (0.415822638361, 22)   (0.63344523705, 360)   \n",
       "2  (0.222285329056, 173)   (0.385800979652, 23)  (0.608114612943, 359)   \n",
       "3   (0.222213654254, 19)  (0.383677745095, 359)   (0.567262700882, 23)   \n",
       "4   (0.209197225592, 23)  (0.383561421069, 497)  (0.530864978094, 175)   \n",
       "\n",
       "                     498                    499                    500  \n",
       "0  (0.237471568777, 302)  (0.386247565848, 462)   (0.36281626186, 499)  \n",
       "1  (0.226974058613, 267)  (0.384221675213, 463)  (0.318046459929, 462)  \n",
       "2   (0.22636494599, 386)   (0.383771537386, 32)   (0.31778345313, 463)  \n",
       "3  (0.184041254207, 212)   (0.36281626186, 500)   (0.315561344229, 32)  \n",
       "4  (0.179860082443, 415)   (0.283497236892, 34)   (0.256628673385, 34)  \n",
       "\n",
       "[5 rows x 500 columns]"
      ]
     },
     "execution_count": 80,
     "metadata": {},
     "output_type": "execute_result"
    }
   ],
   "source": [
    "# To-do: Make this great again \n",
    "pd.DataFrame(similarities).head()"
   ]
  },
  {
   "cell_type": "markdown",
   "metadata": {},
   "source": [
    "Function to query for an item given it's id and return the name:"
   ]
  },
  {
   "cell_type": "code",
   "execution_count": 71,
   "metadata": {
    "collapsed": false
   },
   "outputs": [],
   "source": [
    "def query_item(item_id):\n",
    "    return products.loc[products['id'] == item_id]['description'].tolist()[0].split(' - ')[0]"
   ]
  },
  {
   "cell_type": "markdown",
   "metadata": {},
   "source": [
    "Generate top n similar items given an item's id and n (of course):"
   ]
  },
  {
   "cell_type": "code",
   "execution_count": 76,
   "metadata": {
    "collapsed": true
   },
   "outputs": [],
   "source": [
    "def recommend(item_id, n):\n",
    "    print(str(n) + \" products similar to \" + query_item(item_id) + \" :\")\n",
    "    print(\"------------------\")\n",
    "    recommendations = similarities[item_id][:n]\n",
    "    for r in recommendations:\n",
    "        print(query_item(r[1]) + \" (score:\" + str(r[0]) + \")\")"
   ]
  },
  {
   "cell_type": "code",
   "execution_count": 78,
   "metadata": {
    "collapsed": false
   },
   "outputs": [
    {
     "name": "stdout",
     "output_type": "stream",
     "text": [
      "5 products similar to Active sport briefs :\n",
      "------------------\n",
      "Active sport boxer briefs (score:0.418166399216)\n",
      "Active boy shorts (score:0.11401848122)\n",
      "Active briefs (score:0.110537294466)\n",
      "Active briefs (score:0.109176400166)\n",
      "Active mesh bra (score:0.101723204487)\n"
     ]
    }
   ],
   "source": [
    "recommend(3,5)"
   ]
  },
  {
   "cell_type": "code",
   "execution_count": 79,
   "metadata": {
    "collapsed": true
   },
   "outputs": [],
   "source": [
    "# To-Do: Check to-dos"
   ]
  }
 ],
 "metadata": {
  "kernelspec": {
   "display_name": "Python 2",
   "language": "python",
   "name": "python2"
  },
  "language_info": {
   "codemirror_mode": {
    "name": "ipython",
    "version": 2
   },
   "file_extension": ".py",
   "mimetype": "text/x-python",
   "name": "python",
   "nbconvert_exporter": "python",
   "pygments_lexer": "ipython2",
   "version": "2.7.12"
  }
 },
 "nbformat": 4,
 "nbformat_minor": 0
}
